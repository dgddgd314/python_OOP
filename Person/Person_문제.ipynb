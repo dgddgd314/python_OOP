{
 "cells": [
  {
   "cell_type": "code",
   "execution_count": null,
   "metadata": {},
   "outputs": [],
   "source": [
    "# 다음은 코드이다.\n",
    "class Person:\n",
    "    def __init__(self, name, age):\n",
    "        self.name = name\n",
    "        self.age = age\n",
    "        \n",
    "    def __str__(self):\n",
    "        return f\"name : {self.name}\\nage : {self.age}\""
   ]
  },
  {
   "cell_type": "markdown",
   "metadata": {},
   "source": [
    "### 1. 객체지향언어의 특징인 추상화, 캡슐화, 상속에 대해 설명."
   ]
  },
  {
   "cell_type": "markdown",
   "metadata": {},
   "source": []
  },
  {
   "cell_type": "markdown",
   "metadata": {},
   "source": [
    "### 2. 새로운 함수 get_job을 생성하여 직업을 물어보고, print_job을 생성하여 직업을 출력한다. \n",
    "나이가 20살보다 어리다면 get_job을 실행시 \"나이가 너무 어립니다.\" 를 출력하고, 직업 변수에는 student를 저장한다."
   ]
  },
  {
   "cell_type": "code",
   "execution_count": null,
   "metadata": {},
   "outputs": [],
   "source": [
    "# 다음은 코드이다.\n",
    "class Person:\n",
    "    def __init__(self, name, age):\n",
    "        self.name = name\n",
    "        self.age = age\n",
    "        \n",
    "    def __str__(self):\n",
    "        return f\"name : {self.name}\\nage : {self.age}\"\n",
    "    \n",
    "    def get_job(self, job):\n",
    "        pass\n",
    "    \n",
    "    def print_job(self):\n",
    "        pass"
   ]
  },
  {
   "cell_type": "markdown",
   "metadata": {},
   "source": [
    "### 3. 새로운 class Student를 생성한다. Person class를 상위의 클래스로 상속받는다.\n",
    "- 새로운 변수 GPA를 저장한다. 이는 처음 인스턴스 생성 시 값을 받는다.\n",
    "- __str__ 함수 실행 시 GPA값 역시 출력한다."
   ]
  },
  {
   "cell_type": "code",
   "execution_count": null,
   "metadata": {},
   "outputs": [],
   "source": [
    "class Student:\n",
    "    pass # 여기에 입력하세요."
   ]
  },
  {
   "cell_type": "markdown",
   "metadata": {},
   "source": [
    "### 4. 두 명의 Student 인스턴스끼리 비교할 때(등호만 합시다), GPA 기준으로 비교하는 코드를 작성하시오."
   ]
  },
  {
   "cell_type": "code",
   "execution_count": null,
   "metadata": {},
   "outputs": [],
   "source": [
    "class Student:\n",
    "    pass # 여기에 입력하세요."
   ]
  },
  {
   "cell_type": "code",
   "execution_count": null,
   "metadata": {},
   "outputs": [],
   "source": [
    "# 확인, 다음 코드를 실행하여 잘 출력되는지 확인.\n",
    "person = Person(\"John\", 25)\n",
    "person.get_job(\"Engineer\")\n",
    "print(person)\n",
    "\n",
    "student = Student(\"Alice\", 18, 3.8)\n",
    "student.get_job(\"Research Assistant\")\n",
    "print(student)\n",
    "student.print_job()\n",
    "\n",
    "student2 = Student(\"Bob\", 18, 3.9)\n",
    "\n",
    "print(student == student2)"
   ]
  },
  {
   "cell_type": "code",
   "execution_count": null,
   "metadata": {},
   "outputs": [],
   "source": []
  }
 ],
 "metadata": {
  "language_info": {
   "name": "python"
  }
 },
 "nbformat": 4,
 "nbformat_minor": 2
}
