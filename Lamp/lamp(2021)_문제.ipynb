{
 "cells": [
  {
   "cell_type": "code",
   "execution_count": null,
   "metadata": {},
   "outputs": [],
   "source": [
    "# 기본 코드\n",
    "\n",
    "class Lamp:\n",
    "    STATECNT = 4\n",
    "    \n",
    "    def __init__(self):\n",
    "        self.state = 0\n",
    "        \n",
    "    def set_state(self, new_state):\n",
    "        if 0 <= new_state < self.STATECNT:\n",
    "            self.state = new_state\n",
    "        else:\n",
    "            print(f\"Invalid state {new_state}. State should be between 0 and {self.STATECNT - 1}.\")\n",
    "            \n",
    "    def __str__(self):\n",
    "        return f\"Lamp state: {self.state}\""
   ]
  },
  {
   "cell_type": "markdown",
   "metadata": {},
   "source": [
    "## 다음 코드는 클래스 Lamp를 정의하는 코드이다. 다음 물음에 답하시오. "
   ]
  },
  {
   "cell_type": "markdown",
   "metadata": {},
   "source": [
    "### 1. 생성자란?\n",
    "\n"
   ]
  },
  {
   "cell_type": "markdown",
   "metadata": {},
   "source": []
  },
  {
   "cell_type": "markdown",
   "metadata": {},
   "source": [
    "### 2. switch_state() 함수는 새로운 값에 대한 입력 없이, 램프를 다음 모드로 전환시킨다. 이를 실현시키는 코드를 작성하시오."
   ]
  },
  {
   "cell_type": "code",
   "execution_count": null,
   "metadata": {},
   "outputs": [],
   "source": [
    "class Lamp:\n",
    "    STATECNT = 4\n",
    "    \n",
    "    def __init__(self):\n",
    "        self.state = 0\n",
    "        \n",
    "    def switch_state():\n",
    "        pass # 여기에 입력하세요.\n",
    "    \n",
    "    def set_state(self, new_state):\n",
    "        if 0 <= new_state < self.STATECNT:\n",
    "            self.state = new_state\n",
    "        else:\n",
    "            print(f\"Invalid state {new_state}. State should be between 0 and {self.STATECNT - 1}.\")\n",
    "            \n",
    "    def __str__(self):\n",
    "        return f\"Lamp state: {self.state}\""
   ]
  },
  {
   "cell_type": "markdown",
   "metadata": {},
   "source": [
    "### 3. __str__() 함수는 인스턴스가 string으로 호출될 때 (ex: print(lamp)) 실행되는 함수이다. 출력 결과가 전등에 상태에 대응되도록 함수를 변경하시오.\n",
    "\n",
    "변수의 값과 전등의 상태는 다음과 같다. state: 0 ---> “꺼짐” state: 1 ---> “낮음” state: 2 ---> “보통” state: 3 ---> “밝음”"
   ]
  },
  {
   "cell_type": "code",
   "execution_count": null,
   "metadata": {},
   "outputs": [],
   "source": [
    "class Lamp:\n",
    "    STATECNT = 4\n",
    "    \n",
    "    def __init__(self):\n",
    "        self.state = 0\n",
    "        \n",
    "    def switch_state():\n",
    "        pass # 여기에 입력하세요.\n",
    "    \n",
    "    def set_state(self, new_state):\n",
    "        if 0 <= new_state < self.STATECNT:\n",
    "            self.state = new_state\n",
    "        else:\n",
    "            print(f\"Invalid state {new_state}. State should be between 0 and {self.STATECNT - 1}.\")\n",
    "            \n",
    "    def __str__(self):\n",
    "        return f\"Lamp state: {self.state}\" ### 여기를 변경하세요."
   ]
  },
  {
   "cell_type": "markdown",
   "metadata": {},
   "source": [
    "### 4. 해당 class에 추가로 필요한 기능을 함수로 구현하여 추가하시오."
   ]
  },
  {
   "cell_type": "code",
   "execution_count": null,
   "metadata": {},
   "outputs": [],
   "source": [
    "class Lamp:\n",
    "    STATECNT = 4\n",
    "    \n",
    "    def __init__(self):\n",
    "        self.state = 0\n",
    "        \n",
    "    def switch_state():\n",
    "        pass # 여기에 입력하세요.\n",
    "    \n",
    "    def set_state(self, new_state):\n",
    "        if 0 <= new_state < self.STATECNT:\n",
    "            self.state = new_state\n",
    "        else:\n",
    "            print(f\"Invalid state {new_state}. State should be between 0 and {self.STATECNT - 1}.\")\n",
    "            \n",
    "    def __str__(self):\n",
    "        return f\"Lamp state: {self.state}\" ### 여기를 변경하세요.\n",
    "    \n",
    "    \n",
    "    # 여기에 추가 함수를 작성하세요."
   ]
  },
  {
   "cell_type": "markdown",
   "metadata": {},
   "source": [
    "### 5. 해당 클래스 (Lamp)를 상속받는 새로운 클래스 MiniLamp를 구현하시오."
   ]
  },
  {
   "cell_type": "code",
   "execution_count": null,
   "metadata": {},
   "outputs": [],
   "source": [
    "class MiniLamp(): # 여기도 수정해야 합니다;\n",
    "    pass # 생성자를 통해 실행하시오.\n",
    "\n",
    "    def __str__(self):\n",
    "        return f\"This includes function in Lamp. State is {self.state}, size is {self.size}.\"\n",
    "\n"
   ]
  },
  {
   "cell_type": "code",
   "execution_count": null,
   "metadata": {},
   "outputs": [],
   "source": [
    "# 다음을 실행하면서 내용을 정리합니다. \n",
    "lamp = Lamp()\n",
    "print(lamp)\n",
    "\n",
    "lamp.switch_state()\n",
    "print(lamp)\n",
    "\n",
    "minilamp = MiniLamp()\n",
    "print(minilamp)\n",
    "\n",
    "minilamp.switch_state()\n",
    "print(minilamp)"
   ]
  }
 ],
 "metadata": {
  "language_info": {
   "name": "python"
  }
 },
 "nbformat": 4,
 "nbformat_minor": 2
}
