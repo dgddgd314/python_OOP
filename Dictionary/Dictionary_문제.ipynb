{
 "cells": [
  {
   "cell_type": "markdown",
   "metadata": {},
   "source": [
    "이번 문제에서는, 사전을 직접 구현해보는 방향으로 문제를 진행한다."
   ]
  },
  {
   "cell_type": "code",
   "execution_count": null,
   "metadata": {},
   "outputs": [],
   "source": [
    "# 코드입니다.\n",
    "class Dictionary:\n",
    "    def __init__(self):\n",
    "        self.entries = {}\n",
    "\n",
    "    def add_entry(self, key, value):\n",
    "        self.entries[key] = value\n",
    "\n",
    "    def remove_entry(self, key):\n",
    "        if key in self.entries:\n",
    "            del self.entries[key]\n",
    "        else:\n",
    "            print(f\"Key '{key}' not found in the dictionary.\")\n",
    "\n",
    "    def get_value(self, key):\n",
    "        return self.entries.get(key, None)\n",
    "\n",
    "    def display_entries(self):\n",
    "        print(\"Dictionary Entries:\")\n",
    "        for key, value in self.entries.items():\n",
    "            print(f\"{key}: {value}\")"
   ]
  },
  {
   "cell_type": "markdown",
   "metadata": {},
   "source": [
    "### 1. 절차 지향 프로그래밍과, 객체 지향 프로그래밍의 차이를 설명하시오."
   ]
  },
  {
   "cell_type": "markdown",
   "metadata": {},
   "source": []
  },
  {
   "cell_type": "markdown",
   "metadata": {},
   "source": [
    "### 2. 위에 주어진 5개의 함수는 언제 실행되며, 각각 무슨 행동을 일으키는 함수인지 서술하시오."
   ]
  },
  {
   "cell_type": "markdown",
   "metadata": {},
   "source": []
  },
  {
   "cell_type": "markdown",
   "metadata": {},
   "source": [
    "### 3. 새로운 함수 copyDictionary()를 만든다.\n",
    "- 기능은 기존의 Dictionary를 그대로 copy한다.\n",
    "- Dictionary2 = Dictionary1.copyDictionary()"
   ]
  },
  {
   "cell_type": "code",
   "execution_count": null,
   "metadata": {},
   "outputs": [],
   "source": [
    "class Dictionary:\n",
    "    def __init__(self):\n",
    "        self.entries = {}\n",
    "\n",
    "    def add_entry(self, key, value):\n",
    "        self.entries[key] = value\n",
    "\n",
    "    def remove_entry(self, key):\n",
    "        if key in self.entries:\n",
    "            del self.entries[key]\n",
    "        else:\n",
    "            print(f\"Key '{key}' not found in the dictionary.\")\n",
    "\n",
    "    def get_value(self, key):\n",
    "        return self.entries.get(key, None)\n",
    "\n",
    "    def display_entries(self):\n",
    "        print(\"Dictionary Entries:\")\n",
    "        for key, value in self.entries.items():\n",
    "            print(f\"{key}: {value}\")\n",
    "            \n",
    "    def copyDictionary(self):\n",
    "        pass # 여기를 수정하세요."
   ]
  },
  {
   "cell_type": "markdown",
   "metadata": {},
   "source": [
    "### 4. 새로운 함수 reverseDictionary()를 만든다.\n",
    "- 기능은 기존의 Dictionary에서 key와 value의 값을 서로 바꾼 새로운 Dictionary를 return한다. "
   ]
  },
  {
   "cell_type": "code",
   "execution_count": null,
   "metadata": {},
   "outputs": [],
   "source": [
    "class Dictionary:\n",
    "    def __init__(self):\n",
    "        self.entries = {}\n",
    "\n",
    "    def add_entry(self, key, value):\n",
    "        self.entries[key] = value\n",
    "\n",
    "    def remove_entry(self, key):\n",
    "        if key in self.entries:\n",
    "            del self.entries[key]\n",
    "        else:\n",
    "            print(f\"Key '{key}' not found in the dictionary.\")\n",
    "\n",
    "    def get_value(self, key):\n",
    "        return self.entries.get(key, None)\n",
    "\n",
    "    def display_entries(self):\n",
    "        print(\"Dictionary Entries:\")\n",
    "        for key, value in self.entries.items():\n",
    "            print(f\"{key}: {value}\")\n",
    "            \n",
    "    def copyDictionary(self):\n",
    "        pass # 여기를 수정하세요.\n",
    "    \n",
    "    def reverseDictionary(self):\n",
    "        pass # 여기를 수정하세요. "
   ]
  },
  {
   "cell_type": "markdown",
   "metadata": {},
   "source": [
    "### 5. class 외부에 정의되는 새로운 함수 combine_two_dict를 서술하시오.\n",
    "- 두 개의 dict를 받아서, 새로운 dictionary를 정의한다."
   ]
  },
  {
   "cell_type": "code",
   "execution_count": null,
   "metadata": {},
   "outputs": [],
   "source": [
    "def combine_two_dict(dict1, dict2):\n",
    "    pass # 여기에 작성하세요."
   ]
  },
  {
   "cell_type": "code",
   "execution_count": null,
   "metadata": {},
   "outputs": [],
   "source": [
    "# 다음 예시를 실행합니다. \n",
    "\n",
    "my_dictionary = Dictionary()\n",
    "\n",
    "my_dictionary.add_entry(\"apple\", \"a fruit\")\n",
    "my_dictionary.add_entry(\"python\", \"a programming language\")\n",
    "my_dictionary.add_entry(\"ocean\", \"a large body of water\")\n",
    "\n",
    "my_dictionary.display_entries()\n",
    "\n",
    "value = my_dictionary.get_value(\"python\")\n",
    "print(f\"\\nValue for 'python': {value}\")\n",
    "\n",
    "my_dictionary.remove_entry(\"apple\")\n",
    "my_dictionary.display_entries()\n",
    "print()\n",
    "\n",
    "reverse = my_dictionary.reverse_dictionary()\n",
    "\n",
    "new = combine_two_dict(reverse, my_dictionary)\n",
    "new.display_entries()"
   ]
  }
 ],
 "metadata": {
  "kernelspec": {
   "display_name": "Python 3",
   "language": "python",
   "name": "python3"
  },
  "language_info": {
   "name": "python",
   "version": "3.11.3"
  }
 },
 "nbformat": 4,
 "nbformat_minor": 2
}
