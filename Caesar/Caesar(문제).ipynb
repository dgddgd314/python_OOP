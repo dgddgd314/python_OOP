{
 "cells": [
  {
   "cell_type": "code",
   "execution_count": null,
   "metadata": {},
   "outputs": [],
   "source": [
    "# 코드입니다. \n",
    "class CaesarCipherSolver:\n",
    "    def __init__(self, shift):\n",
    "        self.shift = shift\n",
    "        \n",
    "    def change_shift(self, newshift):\n",
    "        pass\n",
    "\n",
    "    def solve(self, ciphertext):\n",
    "        pass"
   ]
  },
  {
   "cell_type": "markdown",
   "metadata": {},
   "source": [
    "### 1. 카이사르 암호 해독기에 관한 class CaesarCipherSolver에 대해 shift 수를 바꾸는 함수 change_shift를 작성하시오. "
   ]
  },
  {
   "cell_type": "code",
   "execution_count": null,
   "metadata": {},
   "outputs": [],
   "source": [
    "class CaesarCipherSolver:\n",
    "    def __init__(self, shift):\n",
    "        self.shift = shift\n",
    "        \n",
    "    def change_shift(self, newshift):\n",
    "        pass #여기에 작성하시오.\n",
    "\n",
    "    def solve(self, ciphertext):\n",
    "        pass"
   ]
  },
  {
   "cell_type": "markdown",
   "metadata": {},
   "source": [
    "### 2. class CaesarCipherSolver에 대해, solve 함수를 작성하세요."
   ]
  },
  {
   "cell_type": "code",
   "execution_count": null,
   "metadata": {},
   "outputs": [],
   "source": [
    "# 코드입니다. \n",
    "class CaesarCipherSolver:\n",
    "    def __init__(self, shift):\n",
    "        self.shift = shift\n",
    "\n",
    "    def change_shift(self, newshift):\n",
    "        pass\n",
    "\n",
    "    def solve(self, ciphertext):\n",
    "        pass # 여기에 작성하세요."
   ]
  },
  {
   "cell_type": "code",
   "execution_count": null,
   "metadata": {},
   "outputs": [],
   "source": [
    "# 예시 코드.\n",
    "shift_value = 3  # 예시로 3글자씩 이동한다고 가정\n",
    "cipher_solver = CaesarCipherSolver(shift_value)\n",
    "\n",
    "# 암호문\n",
    "encrypted_text = \"L fdhvdu fkduud, wklv lv d whvw phvvdjh.\"\n",
    "\n",
    "# 암호 해독\n",
    "decrypted_text = cipher_solver.solve(encrypted_text)\n",
    "\n",
    "print(f\"암호문: {encrypted_text}\")\n",
    "print(f\"해독된 문장: {decrypted_text}\")\n"
   ]
  }
 ],
 "metadata": {
  "kernelspec": {
   "display_name": "Python 3",
   "language": "python",
   "name": "python3"
  },
  "language_info": {
   "name": "python",
   "version": "3.11.3"
  }
 },
 "nbformat": 4,
 "nbformat_minor": 2
}
